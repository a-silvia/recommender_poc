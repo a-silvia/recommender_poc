{
 "cells": [
  {
   "cell_type": "code",
   "execution_count": 3,
   "id": "6f8e5906-1b76-416f-ba79-1a0eb79a05ba",
   "metadata": {},
   "outputs": [],
   "source": [
    "import pandas as pd\n",
    "import numpy as np\n",
    "from scipy.sparse import csr_matrix"
   ]
  },
  {
   "cell_type": "code",
   "execution_count": 2,
   "id": "053903cb-848d-4ab6-afc9-d5a8bdee9bb6",
   "metadata": {},
   "outputs": [
    {
     "name": "stderr",
     "output_type": "stream",
     "text": [
      "/tmp/ipykernel_416/3234174083.py:1: DtypeWarning: Columns (3) have mixed types. Specify dtype option on import or set low_memory=False.\n",
      "  books = pd.read_csv('data/Books.csv')\n"
     ]
    }
   ],
   "source": [
    "books = pd.read_csv('data/Books.csv')\n",
    "ratings = pd.read_csv('data/Ratings.csv')\n",
    "users = pd.read_csv('data/Users.csv')"
   ]
  },
  {
   "cell_type": "code",
   "execution_count": null,
   "id": "0f6bb67f-29bc-442f-ae2d-caefe132aa2e",
   "metadata": {},
   "outputs": [],
   "source": [
    "indptr = [0]\n",
    "indices = []\n",
    "data = []\n",
    "book_index = {}\n",
    "\n",
    "for u in users[\"User-ID\"]:\n",
    "    user_books = ratings[ratings[\"User-ID\"] == u]\n",
    "    for book in user_books.ISBN.to_list():\n",
    "        # increment the dictionary if it's a new book, otherwise get index\n",
    "        index = book_index.setdefault(book, len(book_index))\n",
    "        indices.append(index)\n",
    "        # the value in the matrix is the (user, book) rating if it exists\n",
    "        data.append(user_books.loc[user_books[\"ISBN\"] == book, \"Book-Rating\"].values[0])\n",
    "    indptr.append(len(indices))\n",
    "    \n",
    "user_book_matrix = csr_matrix((data, indices, indptr), dtype=int)"
   ]
  },
  {
   "cell_type": "code",
   "execution_count": null,
   "id": "8bd5d052-c823-4f83-9e73-29fcb30a3fd7",
   "metadata": {},
   "outputs": [],
   "source": [
    "user_book_matrix.getrow(0)"
   ]
  }
 ],
 "metadata": {
  "kernelspec": {
   "display_name": "Python 3 (ipykernel)",
   "language": "python",
   "name": "python3"
  },
  "language_info": {
   "codemirror_mode": {
    "name": "ipython",
    "version": 3
   },
   "file_extension": ".py",
   "mimetype": "text/x-python",
   "name": "python",
   "nbconvert_exporter": "python",
   "pygments_lexer": "ipython3",
   "version": "3.8.10"
  }
 },
 "nbformat": 4,
 "nbformat_minor": 5
}
