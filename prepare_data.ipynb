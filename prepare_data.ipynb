{
 "cells": [
  {
   "cell_type": "code",
   "execution_count": 42,
   "id": "6f8e5906-1b76-416f-ba79-1a0eb79a05ba",
   "metadata": {},
   "outputs": [],
   "source": [
    "import pandas as pd\n",
    "import numpy as np\n",
    "from scipy.sparse import csr_matrix"
   ]
  },
  {
   "cell_type": "code",
   "execution_count": 43,
   "id": "053903cb-848d-4ab6-afc9-d5a8bdee9bb6",
   "metadata": {},
   "outputs": [],
   "source": [
    "# books = pd.read_csv('data/Books.csv') # unnecessary, no relevant data\n",
    "ratings = pd.read_csv('data/Ratings.csv')\n",
    "users = pd.read_csv('data/Users.csv')"
   ]
  },
  {
   "cell_type": "code",
   "execution_count": 44,
   "id": "0f6bb67f-29bc-442f-ae2d-caefe132aa2e",
   "metadata": {},
   "outputs": [],
   "source": [
    "indptr = [0]\n",
    "indices = []\n",
    "data = []\n",
    "book_index = {}\n",
    "\n",
    "for u in users[\"User-ID\"]:\n",
    "    user_books = ratings[ratings[\"User-ID\"] == u]\n",
    "    for book in user_books.ISBN.to_list():\n",
    "        # increment the dictionary if it's a new book, otherwise get index\n",
    "        index = book_index.setdefault(book, len(book_index))\n",
    "        indices.append(index)\n",
    "        # the value in the matrix is the (user, book) rating if it exists\n",
    "        data.append(user_books.loc[user_books[\"ISBN\"] == book, \"Book-Rating\"].values[0])\n",
    "    indptr.append(len(indices))\n",
    "    \n",
    "user_book_matrix = csr_matrix((data, indices, indptr), dtype=int)"
   ]
  },
  {
   "cell_type": "code",
   "execution_count": 46,
   "id": "959f2967-fc8a-4758-8a55-92d39cfec6cf",
   "metadata": {},
   "outputs": [],
   "source": [
    "import pickle"
   ]
  },
  {
   "cell_type": "code",
   "execution_count": 56,
   "id": "db78fbfb-4ef6-4b43-af92-15bbb648d539",
   "metadata": {},
   "outputs": [],
   "source": [
    "file = open('data/user_book_matrix.pk', 'wb')\n",
    "pickle.dump(obj={\"data\": user_book_matrix, \"book_index\": book_index, \"users\": users[\"User-ID\"].to_list()}, file=file)"
   ]
  },
  {
   "cell_type": "code",
   "execution_count": null,
   "id": "1e6281e0-b9c7-4b34-9f5f-c340374a2dfd",
   "metadata": {},
   "outputs": [],
   "source": []
  }
 ],
 "metadata": {
  "kernelspec": {
   "display_name": "Python 3 (ipykernel)",
   "language": "python",
   "name": "python3"
  },
  "language_info": {
   "codemirror_mode": {
    "name": "ipython",
    "version": 3
   },
   "file_extension": ".py",
   "mimetype": "text/x-python",
   "name": "python",
   "nbconvert_exporter": "python",
   "pygments_lexer": "ipython3",
   "version": "3.8.10"
  }
 },
 "nbformat": 4,
 "nbformat_minor": 5
}
